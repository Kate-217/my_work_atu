{
 "cells": [
  {
   "cell_type": "markdown",
   "metadata": {},
   "source": [
    "### 2. Create a tuple that stores the months of the year, from that tuple create\n",
    "### another tuple with just the summer months (May, June, July),\n",
    "### cprint out the summer months one at a time."
   ]
  },
  {
   "cell_type": "code",
   "execution_count": 112,
   "metadata": {},
   "outputs": [],
   "source": [
    "months =(\"January\",\n",
    "    \"February\",\n",
    "    \"March\",\n",
    "    \"April\",\n",
    "    \"May\",\n",
    "    \"June\",\n",
    "    \"July\",\n",
    "    \"August\",\n",
    "    \"September\",\n",
    "    \"October\",\n",
    "    \"November\",\n",
    "    \"December\"\n",
    ")\n",
    "summer = months[4:7]\n",
    "\n"
   ]
  },
  {
   "cell_type": "code",
   "execution_count": 113,
   "metadata": {},
   "outputs": [
    {
     "name": "stdout",
     "output_type": "stream",
     "text": [
      "('May', 'June', 'July')\n"
     ]
    }
   ],
   "source": [
    "print(summer)"
   ]
  },
  {
   "cell_type": "code",
   "execution_count": 114,
   "metadata": {},
   "outputs": [],
   "source": [
    "tuple_month = tuple(summer)"
   ]
  },
  {
   "cell_type": "code",
   "execution_count": 115,
   "metadata": {},
   "outputs": [
    {
     "name": "stdout",
     "output_type": "stream",
     "text": [
      "('May', 'June', 'July')\n"
     ]
    }
   ],
   "source": [
    "print(tuple_month)"
   ]
  },
  {
   "cell_type": "code",
   "execution_count": 116,
   "metadata": {},
   "outputs": [
    {
     "data": {
      "text/plain": [
       "tuple"
      ]
     },
     "execution_count": 116,
     "metadata": {},
     "output_type": "execute_result"
    }
   ],
   "source": [
    "type(tuple_month)"
   ]
  },
  {
   "cell_type": "code",
   "execution_count": 117,
   "metadata": {},
   "outputs": [
    {
     "data": {
      "text/plain": [
       "tuple"
      ]
     },
     "execution_count": 117,
     "metadata": {},
     "output_type": "execute_result"
    }
   ],
   "source": [
    "type(months)"
   ]
  },
  {
   "cell_type": "code",
   "execution_count": 118,
   "metadata": {},
   "outputs": [
    {
     "name": "stdout",
     "output_type": "stream",
     "text": [
      "May\n",
      "June\n",
      "July\n"
     ]
    }
   ],
   "source": [
    "for month in summer:\n",
    "    print(month)"
   ]
  },
  {
   "cell_type": "markdown",
   "metadata": {},
   "source": [
    "3. Create a program that puts 10 random numbers into a queue(list), \n",
    "the program should then output all the values in the queue,\n",
    "then take the numbers from the queue one at a time, \n",
    "print it and the current numbers still in the queue. \n",
    "(the command pop(0) takes the first element out of a list)"
   ]
  },
  {
   "cell_type": "code",
   "execution_count": 119,
   "metadata": {},
   "outputs": [],
   "source": [
    "import random"
   ]
  },
  {
   "cell_type": "code",
   "execution_count": 120,
   "metadata": {},
   "outputs": [
    {
     "name": "stdout",
     "output_type": "stream",
     "text": [
      "The queue is: [73, 31, 15, 13, 25, 54, 95, 90, 17, 79]\n"
     ]
    }
   ],
   "source": [
    "random_list = []  # creating an empty list\n",
    "start = 1\n",
    "end = 100\n",
    "while len(random_list) != 10:    \n",
    "    random_list.append(random.randint(start,end)) # \n",
    "print( \"The queue is:\", random_list)"
   ]
  },
  {
   "cell_type": "code",
   "execution_count": 121,
   "metadata": {},
   "outputs": [
    {
     "name": "stdout",
     "output_type": "stream",
     "text": [
      "The current number is 73 and the queue is [31, 15, 13, 25, 54, 95, 90, 17, 79]\n",
      "The current number is 31 and the queue is [15, 13, 25, 54, 95, 90, 17, 79]\n",
      "The current number is 15 and the queue is [13, 25, 54, 95, 90, 17, 79]\n",
      "The current number is 13 and the queue is [25, 54, 95, 90, 17, 79]\n",
      "The current number is 25 and the queue is [54, 95, 90, 17, 79]\n",
      "The current number is 54 and the queue is [95, 90, 17, 79]\n",
      "The current number is 95 and the queue is [90, 17, 79]\n",
      "The current number is 90 and the queue is [17, 79]\n",
      "The current number is 17 and the queue is [79]\n",
      "The current number is 79 and the queue is []\n",
      "Now the queue is empty\n"
     ]
    }
   ],
   "source": [
    "while len(random_list) != 0: \n",
    "\n",
    "    current_number = random_list.pop(0) # each itteration deletes the first element \n",
    "    print(f'The current number is {current_number} and the queue is',random_list)\n",
    "print(\"Now the queue is empty\")"
   ]
  },
  {
   "cell_type": "markdown",
   "metadata": {},
   "source": [
    "4. Write a program that stores a student name and a list of her courses and grades in a dict, the program should then print out her data.\n",
    "The number of course she has could change."
   ]
  },
  {
   "cell_type": "code",
   "execution_count": 168,
   "metadata": {},
   "outputs": [
    {
     "name": "stdout",
     "output_type": "stream",
     "text": [
      "Student: Mary\n",
      "\tprogramming \t: 45\n",
      "\n",
      "\tHistory \t: 99\n",
      "\n"
     ]
    }
   ],
   "source": [
    "student = {\n",
    "    \"name\":\"Mary\",\n",
    "    \"modules\": [\n",
    "        {\"course_name\":\"programming\",\n",
    "         \"grade\": 45\n",
    "        },\n",
    "        {\"course_name\":\"History\",\n",
    "         \"grade\": 99\n",
    "        }\n",
    "    ]\n",
    "}\n",
    "print(\"Student: {}\".format(student['name']))\n",
    "for module in student['modules']:\n",
    "    print(\"\\t{} \\t: {}\".format(module['course_name'], module['grade']))\n",
    "    print()"
   ]
  },
  {
   "cell_type": "markdown",
   "metadata": {},
   "source": [
    "Extra\n",
    "5. Write a program that will read in the data for the data structure above, ie reads in a student’s name, \n",
    "then keeps reading in their modules and grades (until the user enters a blank module name),\n",
    "You can break this up into two parts:\n",
    "a. Just read in the module names until the user enters blank,\n",
    "b. Then read in the grade as well\n",
    "This program can just read in one student (and their module details).\n",
    "6. If you want to go a step further, read in multiple students (until the student_name is blank.\n",
    "Next week we will be looking at functions and we will implement something like this."
   ]
  },
  {
   "cell_type": "code",
   "execution_count": 174,
   "metadata": {},
   "outputs": [
    {
     "name": "stdout",
     "output_type": "stream",
     "text": [
      "Student:Kate\n",
      "course name: math grade: 44\n"
     ]
    }
   ],
   "source": [
    "# student's name input \n",
    "name = input(\"Enter student's name:\")\n",
    "\n",
    "student = {\"name\":name,\"modules\":[]}\n",
    "course_name = input(\"Enter a course name:\")\n",
    "\n",
    "while course_name != \"\":    \n",
    "    grade = int(input(\"Enter the grade:\"))\n",
    "    student[\"modules\"].append({\"course_name\": course_name,\"grade\": grade})\n",
    "    course_name = input(\"Enter a course name:\")\n",
    "    \n",
    "print(\"Student: {}\".format(name))\n",
    "for module in student['modules']:\n",
    "    print(\"Course name: {}\".format(module[\"course_name\"]),\"grade: {}\".format(module[\"grade\"]))\n",
    "\n",
    "\n"
   ]
  },
  {
   "cell_type": "code",
   "execution_count": null,
   "metadata": {},
   "outputs": [],
   "source": []
  }
 ],
 "metadata": {
  "kernelspec": {
   "display_name": "Python 3",
   "language": "python",
   "name": "python3"
  },
  "language_info": {
   "codemirror_mode": {
    "name": "ipython",
    "version": 3
   },
   "file_extension": ".py",
   "mimetype": "text/x-python",
   "name": "python",
   "nbconvert_exporter": "python",
   "pygments_lexer": "ipython3",
   "version": "3.9.6"
  }
 },
 "nbformat": 4,
 "nbformat_minor": 2
}
