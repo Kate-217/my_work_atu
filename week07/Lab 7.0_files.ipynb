{
 "cells": [
  {
   "cell_type": "markdown",
   "metadata": {},
   "source": [
    "# Programming And Scripting Lab Topic 07-Files\n"
   ]
  },
  {
   "cell_type": "code",
   "execution_count": 11,
   "metadata": {},
   "outputs": [
    {
     "ename": "FileNotFoundError",
     "evalue": "[Errno 2] No such file or directory: 'test-a.txt'",
     "output_type": "error",
     "traceback": [
      "\u001b[0;31m---------------------------------------------------------------------------\u001b[0m",
      "\u001b[0;31mFileNotFoundError\u001b[0m                         Traceback (most recent call last)",
      "Cell \u001b[0;32mIn[11], line 1\u001b[0m\n\u001b[0;32m----> 1\u001b[0m \u001b[38;5;28;01mwith\u001b[39;00m \u001b[38;5;28;43mopen\u001b[39;49m\u001b[43m(\u001b[49m\u001b[38;5;124;43m\"\u001b[39;49m\u001b[38;5;124;43mtest-a.txt\u001b[39;49m\u001b[38;5;124;43m\"\u001b[39;49m\u001b[43m)\u001b[49m \u001b[38;5;28;01mas\u001b[39;00m f:\n\u001b[1;32m      2\u001b[0m     data \u001b[38;5;241m=\u001b[39m f\u001b[38;5;241m.\u001b[39mread()\n\u001b[1;32m      3\u001b[0m     \u001b[38;5;28mprint\u001b[39m(data)\n",
      "File \u001b[0;32m~/Yandex.Disk.localized/kate/springboard/.venv/lib/python3.12/site-packages/IPython/core/interactiveshell.py:324\u001b[0m, in \u001b[0;36m_modified_open\u001b[0;34m(file, *args, **kwargs)\u001b[0m\n\u001b[1;32m    317\u001b[0m \u001b[38;5;28;01mif\u001b[39;00m file \u001b[38;5;129;01min\u001b[39;00m {\u001b[38;5;241m0\u001b[39m, \u001b[38;5;241m1\u001b[39m, \u001b[38;5;241m2\u001b[39m}:\n\u001b[1;32m    318\u001b[0m     \u001b[38;5;28;01mraise\u001b[39;00m \u001b[38;5;167;01mValueError\u001b[39;00m(\n\u001b[1;32m    319\u001b[0m         \u001b[38;5;124mf\u001b[39m\u001b[38;5;124m\"\u001b[39m\u001b[38;5;124mIPython won\u001b[39m\u001b[38;5;124m'\u001b[39m\u001b[38;5;124mt let you open fd=\u001b[39m\u001b[38;5;132;01m{\u001b[39;00mfile\u001b[38;5;132;01m}\u001b[39;00m\u001b[38;5;124m by default \u001b[39m\u001b[38;5;124m\"\u001b[39m\n\u001b[1;32m    320\u001b[0m         \u001b[38;5;124m\"\u001b[39m\u001b[38;5;124mas it is likely to crash IPython. If you know what you are doing, \u001b[39m\u001b[38;5;124m\"\u001b[39m\n\u001b[1;32m    321\u001b[0m         \u001b[38;5;124m\"\u001b[39m\u001b[38;5;124myou can use builtins\u001b[39m\u001b[38;5;124m'\u001b[39m\u001b[38;5;124m open.\u001b[39m\u001b[38;5;124m\"\u001b[39m\n\u001b[1;32m    322\u001b[0m     )\n\u001b[0;32m--> 324\u001b[0m \u001b[38;5;28;01mreturn\u001b[39;00m \u001b[43mio_open\u001b[49m\u001b[43m(\u001b[49m\u001b[43mfile\u001b[49m\u001b[43m,\u001b[49m\u001b[43m \u001b[49m\u001b[38;5;241;43m*\u001b[39;49m\u001b[43margs\u001b[49m\u001b[43m,\u001b[49m\u001b[43m \u001b[49m\u001b[38;5;241;43m*\u001b[39;49m\u001b[38;5;241;43m*\u001b[39;49m\u001b[43mkwargs\u001b[49m\u001b[43m)\u001b[49m\n",
      "\u001b[0;31mFileNotFoundError\u001b[0m: [Errno 2] No such file or directory: 'test-a.txt'"
     ]
    }
   ],
   "source": [
    "with open(\"test-a.txt\") as f:\n",
    "    data = f.read()\n",
    "    print(data)\n",
    "    "
   ]
  },
  {
   "cell_type": "code",
   "execution_count": 10,
   "metadata": {},
   "outputs": [
    {
     "name": "stdout",
     "output_type": "stream",
     "text": [
      "7\n"
     ]
    }
   ],
   "source": [
    "with open(\"test-b.txt\", \"w\") as f:\n",
    "    data = f.write(\"test b\\n\") # returns the number of chars written \n",
    "    print (data)"
   ]
  },
  {
   "cell_type": "code",
   "execution_count": null,
   "metadata": {},
   "outputs": [],
   "source": [
    "with open(\"test-b.txt\",\"a\") as f:\n",
    "    data = f.write(\"bla_bla_bbbbbbbbbbbbbb\")\n",
    "    print(data)"
   ]
  },
  {
   "cell_type": "code",
   "execution_count": null,
   "metadata": {},
   "outputs": [],
   "source": [
    "with open(\"count.txt\",\"w\") as f:\n",
    "    data = f.write(\"0\")\n",
    "    print(data)"
   ]
  },
  {
   "cell_type": "markdown",
   "metadata": {},
   "source": [
    "2. Write a program that counts how many times it was run.\n",
    "For this exercise will have to store data outside of memory, and that is accessible\n",
    "each time the program is run, (persistent data). We would normally use a\n",
    "database for something like this, but we can use a file.\n",
    "To make life easier let’s assume that the file already exists. So, we can just read\n",
    "the current count from it then overwrite it with the new count.\n",
    "\n",
    "a. Write a function that reads in a number from a file that already exists\n",
    "(count.txt). test the program by calling the function and outputting the\n",
    "number."
   ]
  },
  {
   "cell_type": "code",
   "execution_count": null,
   "metadata": {},
   "outputs": [],
   "source": [
    "FILENAME = 'count.txt'\n",
    "def read_number():\n",
    "    with open(FILENAME) as f:\n",
    "        number = int(f.read())\n",
    "        return number"
   ]
  },
  {
   "cell_type": "code",
   "execution_count": null,
   "metadata": {},
   "outputs": [],
   "source": [
    "num = read_number()\n",
    "print(num)"
   ]
  },
  {
   "cell_type": "markdown",
   "metadata": {},
   "source": [
    "b."
   ]
  },
  {
   "cell_type": "code",
   "execution_count": null,
   "metadata": {},
   "outputs": [],
   "source": [
    "def write_number(number):\n",
    "    with open(FILENAME,\"wt\") as f:\n",
    "        f.write(str(number))\n",
    "\n",
    "\n",
    "write_number(3)\n"
   ]
  },
  {
   "cell_type": "markdown",
   "metadata": {},
   "source": [
    "c. Write a program that, uses these two functions, to count how many times\n",
    "the program has been run. Test it, check to see that the number goes up\n",
    "each time."
   ]
  },
  {
   "cell_type": "code",
   "execution_count": 43,
   "metadata": {},
   "outputs": [
    {
     "name": "stdout",
     "output_type": "stream",
     "text": [
      "we have run this program 7 times\n"
     ]
    }
   ],
   "source": [
    "FILENAME = 'count.txt'\n",
    "def read_number():\n",
    "    with open(FILENAME) as f:\n",
    "        number = int(f.read())  \n",
    "        return number\n",
    "    \n",
    "def write_number(number):\n",
    "    with open(FILENAME,\"wt\") as f:  # the number is renewing each itteration\n",
    "        f.write(str(number))\n",
    "\n",
    "\n",
    "numb = read_number()\n",
    "numb +=1\n",
    "print(f'we have run this program {numb} times')\n",
    "write_number(numb)"
   ]
  },
  {
   "cell_type": "code",
   "execution_count": 46,
   "metadata": {},
   "outputs": [],
   "source": [
    "import os.path\n",
    "FILENAME = \"count.txt\"\n",
    "if not os.path.isfile(FILENAME):\n",
    "    print(\"File does not exist\")\n",
    "    write_number(0)\n"
   ]
  },
  {
   "cell_type": "markdown",
   "metadata": {},
   "source": [
    "3. Write a function that will store a simple Dict to a file as JSON. TEST IT\n",
    "Answer"
   ]
  },
  {
   "cell_type": "code",
   "execution_count": 49,
   "metadata": {},
   "outputs": [],
   "source": [
    "import json\n",
    "FILENAME = \"testdict.json\"\n",
    "sample = dict(name ='fred', age = 31, grades=[1,34,55])\n",
    "\n",
    "def write_dict(obj):\n",
    "    with open(FILENAME, 'wt') as f:\n",
    "        json.dump(obj,f)    # writes a dict or list (obj) to a file (f) \n",
    "\n",
    "write_dict(sample) # our obj is sample\n"
   ]
  },
  {
   "cell_type": "markdown",
   "metadata": {},
   "source": [
    "4. Write a function that will read in a dict object from file. TEST IT"
   ]
  },
  {
   "cell_type": "code",
   "execution_count": 52,
   "metadata": {},
   "outputs": [
    {
     "name": "stdout",
     "output_type": "stream",
     "text": [
      "{'name': 'fred', 'age': 31, 'grades': [1, 34, 55]}\n"
     ]
    }
   ],
   "source": [
    "import json\n",
    "FILENAME =\"testdict.json\"\n",
    "\n",
    "def read_dict():\n",
    "    with open(FILENAME) as f:\n",
    "        return json.load(f)\n",
    "    \n",
    "somedict = read_dict()\n",
    "print(somedict)"
   ]
  },
  {
   "cell_type": "markdown",
   "metadata": {},
   "source": [
    "5. With the program we made last week, create a new menu item called save. When\n",
    "the user selects the doSave() function should be called (the do save can do\n",
    "nothing but printout doSave for the moment."
   ]
  },
  {
   "cell_type": "code",
   "execution_count": null,
   "metadata": {},
   "outputs": [],
   "source": [
    "def do_save(students):\n",
    "    print(in save)\n",
    "\n",
    "# main program\n",
    "choice = display_menu()\n",
    "while(choice != \"q\"):\n",
    "    if choice == \"a\":\n",
    "        do_add(students)\n",
    "    elif choice == \"v\":\n",
    "        do_view(students)\n",
    "    elif choice == \"s\":\n",
    "        do_save(students)    \n",
    "    elif choice != \"q\":\n",
    "        print(\"Please, select either 'a','v' or 'q'\")\n",
    "    choice = display_menu()\n",
    "\n",
    "# menu\n",
    "    \n",
    "def display_menu():\n",
    "    print(\"What would you like to do?\")\n",
    "    print(\"\\t(a) Add new student\")\n",
    "    print(\"\\t(v) View students\")\n",
    "    print(\"\\t(s) Save students \")\n",
    "    print(\"\\t(q) Quit\")\n",
    "    choice = input(\"Type one letter (a/v/q):\").strip()\n",
    "    return choice    "
   ]
  },
  {
   "cell_type": "markdown",
   "metadata": {},
   "source": [
    "getting all the parts together"
   ]
  },
  {
   "cell_type": "code",
   "execution_count": 8,
   "metadata": {},
   "outputs": [
    {
     "name": "stdout",
     "output_type": "stream",
     "text": [
      "What would you like to do?\n",
      "\t(a) Add new student\n",
      "\t(v) View students\n",
      "\t(s) Save students \n",
      "\t(l) Load students\n",
      "\t(q) Quit\n"
     ]
    },
    {
     "ename": "FileNotFoundError",
     "evalue": "[Errno 2] No such file or directory: 'student_data.json'",
     "output_type": "error",
     "traceback": [
      "\u001b[0;31m---------------------------------------------------------------------------\u001b[0m",
      "\u001b[0;31mFileNotFoundError\u001b[0m                         Traceback (most recent call last)",
      "Cell \u001b[0;32mIn[8], line 94\u001b[0m\n\u001b[1;32m     92\u001b[0m     do_save(students)\n\u001b[1;32m     93\u001b[0m \u001b[38;5;28;01melif\u001b[39;00m choice \u001b[38;5;241m==\u001b[39m \u001b[38;5;124m'\u001b[39m\u001b[38;5;124ml\u001b[39m\u001b[38;5;124m'\u001b[39m:\n\u001b[0;32m---> 94\u001b[0m      \u001b[43mdo_load\u001b[49m\u001b[43m(\u001b[49m\u001b[43m)\u001b[49m    \n\u001b[1;32m     95\u001b[0m \u001b[38;5;28;01melif\u001b[39;00m choice \u001b[38;5;241m!=\u001b[39m \u001b[38;5;124m\"\u001b[39m\u001b[38;5;124mq\u001b[39m\u001b[38;5;124m\"\u001b[39m:\n\u001b[1;32m     96\u001b[0m     \u001b[38;5;28mprint\u001b[39m(\u001b[38;5;124m\"\u001b[39m\u001b[38;5;124mPlease, select either \u001b[39m\u001b[38;5;124m'\u001b[39m\u001b[38;5;124ma\u001b[39m\u001b[38;5;124m'\u001b[39m\u001b[38;5;124m,\u001b[39m\u001b[38;5;124m'\u001b[39m\u001b[38;5;124mv\u001b[39m\u001b[38;5;124m'\u001b[39m\u001b[38;5;124m,\u001b[39m\u001b[38;5;124m'\u001b[39m\u001b[38;5;124ms\u001b[39m\u001b[38;5;124m'\u001b[39m\u001b[38;5;124m,\u001b[39m\u001b[38;5;124m'\u001b[39m\u001b[38;5;124ml\u001b[39m\u001b[38;5;124m'\u001b[39m\u001b[38;5;124m or \u001b[39m\u001b[38;5;124m'\u001b[39m\u001b[38;5;124mq\u001b[39m\u001b[38;5;124m'\u001b[39m\u001b[38;5;124m\"\u001b[39m)\n",
      "Cell \u001b[0;32mIn[8], line 82\u001b[0m, in \u001b[0;36mdo_load\u001b[0;34m()\u001b[0m\n\u001b[1;32m     77\u001b[0m \u001b[38;5;28;01mdef\u001b[39;00m \u001b[38;5;21mdo_load\u001b[39m():\n\u001b[1;32m     78\u001b[0m     \u001b[38;5;66;03m# we are changing the global variable students \u001b[39;00m\n\u001b[1;32m     79\u001b[0m     \u001b[38;5;66;03m# so we need to indicate this\u001b[39;00m\n\u001b[1;32m     80\u001b[0m     \u001b[38;5;66;03m# (this stumped me for a little bit)\u001b[39;00m\n\u001b[1;32m     81\u001b[0m     \u001b[38;5;28;01mglobal\u001b[39;00m students \n\u001b[0;32m---> 82\u001b[0m     students \u001b[38;5;241m=\u001b[39m \u001b[43mread_dict\u001b[49m\u001b[43m(\u001b[49m\u001b[43m)\u001b[49m\n\u001b[1;32m     83\u001b[0m     \u001b[38;5;28mprint\u001b[39m (\u001b[38;5;124m\"\u001b[39m\u001b[38;5;124mstudents loaded\u001b[39m\u001b[38;5;124m\"\u001b[39m)\n",
      "Cell \u001b[0;32mIn[8], line 10\u001b[0m, in \u001b[0;36mread_dict\u001b[0;34m()\u001b[0m\n\u001b[1;32m      9\u001b[0m \u001b[38;5;28;01mdef\u001b[39;00m \u001b[38;5;21mread_dict\u001b[39m():\n\u001b[0;32m---> 10\u001b[0m     \u001b[38;5;28;01mwith\u001b[39;00m \u001b[38;5;28;43mopen\u001b[39;49m\u001b[43m(\u001b[49m\u001b[43mFILENAME\u001b[49m\u001b[43m)\u001b[49m \u001b[38;5;28;01mas\u001b[39;00m f:\n\u001b[1;32m     11\u001b[0m         \u001b[38;5;28;01mreturn\u001b[39;00m json\u001b[38;5;241m.\u001b[39mload(f)\n",
      "File \u001b[0;32m~/Yandex.Disk.localized/kate/springboard/.venv/lib/python3.12/site-packages/IPython/core/interactiveshell.py:324\u001b[0m, in \u001b[0;36m_modified_open\u001b[0;34m(file, *args, **kwargs)\u001b[0m\n\u001b[1;32m    317\u001b[0m \u001b[38;5;28;01mif\u001b[39;00m file \u001b[38;5;129;01min\u001b[39;00m {\u001b[38;5;241m0\u001b[39m, \u001b[38;5;241m1\u001b[39m, \u001b[38;5;241m2\u001b[39m}:\n\u001b[1;32m    318\u001b[0m     \u001b[38;5;28;01mraise\u001b[39;00m \u001b[38;5;167;01mValueError\u001b[39;00m(\n\u001b[1;32m    319\u001b[0m         \u001b[38;5;124mf\u001b[39m\u001b[38;5;124m\"\u001b[39m\u001b[38;5;124mIPython won\u001b[39m\u001b[38;5;124m'\u001b[39m\u001b[38;5;124mt let you open fd=\u001b[39m\u001b[38;5;132;01m{\u001b[39;00mfile\u001b[38;5;132;01m}\u001b[39;00m\u001b[38;5;124m by default \u001b[39m\u001b[38;5;124m\"\u001b[39m\n\u001b[1;32m    320\u001b[0m         \u001b[38;5;124m\"\u001b[39m\u001b[38;5;124mas it is likely to crash IPython. If you know what you are doing, \u001b[39m\u001b[38;5;124m\"\u001b[39m\n\u001b[1;32m    321\u001b[0m         \u001b[38;5;124m\"\u001b[39m\u001b[38;5;124myou can use builtins\u001b[39m\u001b[38;5;124m'\u001b[39m\u001b[38;5;124m open.\u001b[39m\u001b[38;5;124m\"\u001b[39m\n\u001b[1;32m    322\u001b[0m     )\n\u001b[0;32m--> 324\u001b[0m \u001b[38;5;28;01mreturn\u001b[39;00m \u001b[43mio_open\u001b[49m\u001b[43m(\u001b[49m\u001b[43mfile\u001b[49m\u001b[43m,\u001b[49m\u001b[43m \u001b[49m\u001b[38;5;241;43m*\u001b[39;49m\u001b[43margs\u001b[49m\u001b[43m,\u001b[49m\u001b[43m \u001b[49m\u001b[38;5;241;43m*\u001b[39;49m\u001b[38;5;241;43m*\u001b[39;49m\u001b[43mkwargs\u001b[49m\u001b[43m)\u001b[49m\n",
      "\u001b[0;31mFileNotFoundError\u001b[0m: [Errno 2] No such file or directory: 'student_data.json'"
     ]
    }
   ],
   "source": [
    "\n",
    "import json\n",
    "FILENAME = \"student_data.json\"\n",
    "#sample = dict(name ='fred', age = 31, grades=[1,34,55])\n",
    "\n",
    "def write_dict(obj):\n",
    "    with open(FILENAME, 'wt') as f:\n",
    "        json.dump(obj,f) \n",
    "\n",
    "def read_dict():   # doesn't work if the does not exist\n",
    "    with open(FILENAME) as f:\n",
    "        return json.load(f)\n",
    "\n",
    "students = []\n",
    "\n",
    "\n",
    "def display_menu():\n",
    "    print(\"What would you like to do?\")\n",
    "    print(\"\\t(a) Add new student\")\n",
    "    print(\"\\t(v) View students\")\n",
    "    print(\"\\t(s) Save students \")\n",
    "    print(\"\\t(l) Load students\")\n",
    "    print(\"\\t(q) Quit\")\n",
    "    choice = input(\"Type one letter (a/v/s/l/q):\").strip()\n",
    "    return choice  \n",
    "\n",
    "def do_add(students):\n",
    "    current_student = {}\n",
    "    current_student['name'] = input(\"Enter student name:\")\n",
    "    current_student['modules'] = read_modules()\n",
    "    students.append(current_student)\n",
    "    return students\n",
    "\n",
    "def read_modules():\n",
    "    modules = []\n",
    "    input_module = input(\"Enter the first module name (blank to quit)\").strip()\n",
    "    while input_module != \"\":\n",
    "        module = {}\n",
    "        module['name'] = input_module\n",
    "        module['grade'] = input('enter grade:')\n",
    "        modules.append(module)\n",
    "        input_module = input(\"Enter the next module name\").strip()\n",
    "    return modules   \n",
    "\n",
    "def do_view(students):\n",
    "    if len(students) == 0:\n",
    "        print(\"Students are not given\")   \n",
    "    else:    \n",
    "        for current_student in students:\n",
    "            print(f\"Student's name: {current_student[\"name\"]}\")\n",
    "            print(\"*****\")\n",
    "            modules = current_student['modules']\n",
    "            for module in modules:\n",
    "                print(f'module name: {module['name']}, grade:{module[\"grade\"]}')\n",
    "           \n",
    "    return students\n",
    "    \n",
    "def do_save(students):\n",
    "    write_dict(students)\n",
    "    print(\"students saved\")    \n",
    "\n",
    "\n",
    "\n",
    "def do_load():\n",
    "    # we are changing the global variable students \n",
    "    # so we need to indicate this\n",
    "    # (this stumped me for a little bit)\n",
    "    global students \n",
    "    students = read_dict()\n",
    "    print (\"students loaded\")    \n",
    "\n",
    "choice = display_menu()\n",
    "while(choice != \"q\"):\n",
    "    if choice == \"a\":\n",
    "        do_add(students)\n",
    "    elif choice == \"v\":\n",
    "        do_view(students)\n",
    "    elif choice == \"s\":\n",
    "        do_save(students)\n",
    "    elif choice == 'l':\n",
    "         do_load()    \n",
    "    elif choice != \"q\":\n",
    "        print(\"Please, select either 'a','v','s','l' or 'q'\")\n",
    "    choice = display_menu()\n",
    "    \n",
    "\n"
   ]
  }
 ],
 "metadata": {
  "kernelspec": {
   "display_name": ".venv",
   "language": "python",
   "name": "python3"
  },
  "language_info": {
   "codemirror_mode": {
    "name": "ipython",
    "version": 3
   },
   "file_extension": ".py",
   "mimetype": "text/x-python",
   "name": "python",
   "nbconvert_exporter": "python",
   "pygments_lexer": "ipython3",
   "version": "3.12.2"
  }
 },
 "nbformat": 4,
 "nbformat_minor": 2
}
