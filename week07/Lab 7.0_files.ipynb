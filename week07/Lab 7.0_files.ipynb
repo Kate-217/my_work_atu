{
 "cells": [
  {
   "cell_type": "markdown",
   "metadata": {},
   "source": [
    "# Programming And Scripting Lab Topic 07-Files\n"
   ]
  },
  {
   "cell_type": "code",
   "execution_count": null,
   "metadata": {},
   "outputs": [],
   "source": [
    "with open(\"test-a.txt\") as f:\n",
    "    data = f.read()\n",
    "    print(data)\n",
    "    "
   ]
  },
  {
   "cell_type": "code",
   "execution_count": null,
   "metadata": {},
   "outputs": [],
   "source": [
    "with open(\"test-b.txt\", \"w\") as f:\n",
    "    data = f.write(\"test b\\n\") # returns the number of chars written \n",
    "    print (data)"
   ]
  },
  {
   "cell_type": "code",
   "execution_count": null,
   "metadata": {},
   "outputs": [],
   "source": [
    "with open(\"test-b.txt\",\"a\") as f:\n",
    "    data = f.write(\"bla_bla_bbbbbbbbbbbbbb\")\n",
    "    print(data)"
   ]
  },
  {
   "cell_type": "code",
   "execution_count": null,
   "metadata": {},
   "outputs": [],
   "source": [
    "with open(\"count.txt\",\"w\") as f:\n",
    "    data = f.write(\"0\")\n",
    "    print(data)"
   ]
  },
  {
   "cell_type": "markdown",
   "metadata": {},
   "source": [
    "2. Write a program that counts how many times it was run.\n",
    "For this exercise will have to store data outside of memory, and that is accessible\n",
    "each time the program is run, (persistent data). We would normally use a\n",
    "database for something like this, but we can use a file.\n",
    "To make life easier let’s assume that the file already exists. So, we can just read\n",
    "the current count from it then overwrite it with the new count.\n",
    "\n",
    "a. Write a function that reads in a number from a file that already exists\n",
    "(count.txt). test the program by calling the function and outputting the\n",
    "number."
   ]
  },
  {
   "cell_type": "code",
   "execution_count": null,
   "metadata": {},
   "outputs": [],
   "source": [
    "FILENAME = 'count.txt'\n",
    "def read_number():\n",
    "    with open(FILENAME) as f:\n",
    "        number = int(f.read())\n",
    "        return number"
   ]
  },
  {
   "cell_type": "code",
   "execution_count": null,
   "metadata": {},
   "outputs": [],
   "source": [
    "num = read_number()\n",
    "print(num)"
   ]
  },
  {
   "cell_type": "markdown",
   "metadata": {},
   "source": [
    "b."
   ]
  },
  {
   "cell_type": "code",
   "execution_count": null,
   "metadata": {},
   "outputs": [],
   "source": [
    "def write_number(number):\n",
    "    with open(FILENAME,\"wt\") as f:\n",
    "        f.write(str(number))\n",
    "\n",
    "\n",
    "write_number(3)\n"
   ]
  },
  {
   "cell_type": "markdown",
   "metadata": {},
   "source": [
    "c. Write a program that, uses these two functions, to count how many times\n",
    "the program has been run. Test it, check to see that the number goes up\n",
    "each time."
   ]
  },
  {
   "cell_type": "code",
   "execution_count": 43,
   "metadata": {},
   "outputs": [
    {
     "name": "stdout",
     "output_type": "stream",
     "text": [
      "we have run this program 7 times\n"
     ]
    }
   ],
   "source": [
    "FILENAME = 'count.txt'\n",
    "def read_number():\n",
    "    with open(FILENAME) as f:\n",
    "        number = int(f.read())  \n",
    "        return number\n",
    "    \n",
    "def write_number(number):\n",
    "    with open(FILENAME,\"wt\") as f:  # the number is renewing each itteration\n",
    "        f.write(str(number))\n",
    "\n",
    "\n",
    "numb = read_number()\n",
    "numb +=1\n",
    "print(f'we have run this program {numb} times')\n",
    "write_number(numb)"
   ]
  },
  {
   "cell_type": "code",
   "execution_count": 46,
   "metadata": {},
   "outputs": [],
   "source": [
    "import os.path\n",
    "FILENAME = \"count.txt\"\n",
    "if not os.path.isfile(FILENAME):\n",
    "    print(\"File does not exist\")\n",
    "    write_number(0)\n"
   ]
  },
  {
   "cell_type": "markdown",
   "metadata": {},
   "source": [
    "3. Write a function that will store a simple Dict to a file as JSON. TEST IT\n",
    "Answer"
   ]
  },
  {
   "cell_type": "code",
   "execution_count": 49,
   "metadata": {},
   "outputs": [],
   "source": [
    "import json\n",
    "FILENAME = \"testdict.json\"\n",
    "sample = dict(name ='fred', age = 31, grades=[1,34,55])\n",
    "\n",
    "def write_dict(obj):\n",
    "    with open(FILENAME, 'wt') as f:\n",
    "        json.dump(obj,f)    # writes a dict or list (obj) to a file (f) \n",
    "\n",
    "write_dict(sample) # our obj is sample\n"
   ]
  },
  {
   "cell_type": "markdown",
   "metadata": {},
   "source": [
    "4. Write a function that will read in a dict object from file. TEST IT"
   ]
  },
  {
   "cell_type": "code",
   "execution_count": 52,
   "metadata": {},
   "outputs": [
    {
     "name": "stdout",
     "output_type": "stream",
     "text": [
      "{'name': 'fred', 'age': 31, 'grades': [1, 34, 55]}\n"
     ]
    }
   ],
   "source": [
    "import json\n",
    "FILENAME =\"testdict.json\"\n",
    "\n",
    "def read_dict():\n",
    "    with open(FILENAME) as f:\n",
    "        return json.load(f)\n",
    "    \n",
    "somedict = read_dict()\n",
    "print(somedict)"
   ]
  }
 ],
 "metadata": {
  "kernelspec": {
   "display_name": ".venv",
   "language": "python",
   "name": "python3"
  },
  "language_info": {
   "codemirror_mode": {
    "name": "ipython",
    "version": 3
   },
   "file_extension": ".py",
   "mimetype": "text/x-python",
   "name": "python",
   "nbconvert_exporter": "python",
   "pygments_lexer": "ipython3",
   "version": "3.12.2"
  }
 },
 "nbformat": 4,
 "nbformat_minor": 2
}
