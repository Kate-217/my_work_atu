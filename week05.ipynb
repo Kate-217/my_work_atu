{
 "cells": [
  {
   "cell_type": "markdown",
   "metadata": {},
   "source": [
    "# Primes numbers\n",
    "\n",
    "### The program defines prime numbers \n",
    "### from the range of numbers and places them to the list. "
   ]
  },
  {
   "cell_type": "markdown",
   "metadata": {},
   "source": [
    "A natural number (1, 2, 3, 4, 5, 6, etc.) is called a **prime number** (or a prime) if it is greater than 1 and cannot be written as the product of two smaller natural numbers."
   ]
  },
  {
   "cell_type": "code",
   "execution_count": 11,
   "metadata": {},
   "outputs": [
    {
     "name": "stdout",
     "output_type": "stream",
     "text": [
      "[3, 5, 7, 11, 13, 17, 19, 23, 29, 31, 37, 41, 43, 47, 53, 59, 61, 67, 71, 73, 79, 83, 89, 97]\n"
     ]
    }
   ],
   "source": [
    "primes = []\n",
    "\n",
    "for candidate in range(3, 101):\n",
    "    is_prime = True\n",
    "    for devisor in range(2, candidate):\n",
    "        if candidate % devisor == 0: # if the devisor(exept the candidate) devide candidate evenly, the number is not a prime\n",
    "            is_prime = False\n",
    "            break\n",
    "    if is_prime == True:  # if is_prime: \n",
    "        primes.append(candidate)\n",
    "print(primes)"
   ]
  },
  {
   "cell_type": "code",
   "execution_count": null,
   "metadata": {},
   "outputs": [],
   "source": []
  }
 ],
 "metadata": {
  "kernelspec": {
   "display_name": "Python 3",
   "language": "python",
   "name": "python3"
  },
  "language_info": {
   "codemirror_mode": {
    "name": "ipython",
    "version": 3
   },
   "file_extension": ".py",
   "mimetype": "text/x-python",
   "name": "python",
   "nbconvert_exporter": "python",
   "pygments_lexer": "ipython3",
   "version": "3.9.6"
  }
 },
 "nbformat": 4,
 "nbformat_minor": 2
}
