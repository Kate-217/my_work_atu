{
 "cells": [
  {
   "cell_type": "markdown",
   "metadata": {},
   "source": [
    "# Functions arguments and return"
   ]
  },
  {
   "cell_type": "code",
   "execution_count": null,
   "metadata": {},
   "outputs": [],
   "source": [
    "def fun1(*arg):  # *arg means that you can use any arguments without naming them\n",
    "    print(type(arg))\n",
    "    print(arg)\n",
    "\n",
    "fun1({'house':23,'shed':4}) # it makes tuple\n",
    "a= fun1({'house':23,'shed':4})\n",
    "\n",
    "\n",
    "    \n",
    "    "
   ]
  },
  {
   "cell_type": "code",
   "execution_count": null,
   "metadata": {},
   "outputs": [],
   "source": [
    "fun1(\"hello\")"
   ]
  },
  {
   "cell_type": "code",
   "execution_count": null,
   "metadata": {},
   "outputs": [],
   "source": [
    "def fun2(**kwargs):    # creates dictionary out of all arguments\n",
    "     print(type(kwargs))\n",
    "    print(kwargs)\n",
    "fun2(name=\"cop\",age = '22', gender = \"male\")\n",
    "\n",
    "    "
   ]
  },
  {
   "cell_type": "markdown",
   "metadata": {},
   "source": [
    "# Lab Topic 06. Functions"
   ]
  },
  {
   "cell_type": "markdown",
   "metadata": {},
   "source": [
    "2. Write a function that prints out a menu of commands we can perform, ie add, view and quit. \n",
    " The function should return what the user chose."
   ]
  },
  {
   "cell_type": "code",
   "execution_count": null,
   "metadata": {},
   "outputs": [],
   "source": [
    "def display_menu():\n",
    "    print(\"What would you like to do?\")\n",
    "    print(\"\\t(a) Add new student\")\n",
    "    print(\"\\t(v) View students\")\n",
    "    print(\"\\t(q) Quit\")\n",
    "    choice = input(\"Type one letter (a/v/q):\").strip()\n",
    "    return choice\n",
    "    \n",
    "#reply = display_menu()\n",
    "#print(f'You chose \"{reply}\"')\n",
    "\n"
   ]
  },
  {
   "cell_type": "code",
   "execution_count": null,
   "metadata": {},
   "outputs": [],
   "source": []
  },
  {
   "cell_type": "markdown",
   "metadata": {},
   "source": [
    "3. Create a program that keeps displaying the menu until the user picks q. \n",
    "if the user chooses a then call a function called doAdd() if the user chooses v then call a function called doView()."
   ]
  },
  {
   "cell_type": "markdown",
   "metadata": {},
   "source": [
    "(a) Add new student -  do_add()<br/>  \n",
    "(v) View students -  do_view() <br/>  \n",
    "(q) Quit  "
   ]
  },
  {
   "cell_type": "code",
   "execution_count": 10,
   "metadata": {},
   "outputs": [
    {
     "name": "stdout",
     "output_type": "stream",
     "text": [
      "What would you like to do?\n",
      "\t(a) Add new student\n",
      "\t(v) View students\n",
      "\t(q) Quit\n",
      "Students are not given\n",
      "What would you like to do?\n",
      "\t(a) Add new student\n",
      "\t(v) View students\n",
      "\t(q) Quit\n",
      "What would you like to do?\n",
      "\t(a) Add new student\n",
      "\t(v) View students\n",
      "\t(q) Quit\n",
      "Student's name: Katew\n",
      "*****\n",
      "module name: pop, grade:66\n",
      "What would you like to do?\n",
      "\t(a) Add new student\n",
      "\t(v) View students\n",
      "\t(q) Quit\n"
     ]
    }
   ],
   "source": [
    "students = []\n",
    "students2 = [{'name': 'Kate', \n",
    "              'address': {\n",
    "                  'city': 'dublin',\n",
    "                  'house': 27\n",
    "              },\n",
    "            'modules': [\n",
    "                {\n",
    "                'name': \"maths\", \n",
    "                'grade': 55\n",
    "                },{\n",
    "                    \"name\":\"Hist\", \n",
    "            \"grade\": 66\n",
    "            }\n",
    "           ]}]\n",
    "\n",
    "\n",
    "def display_menu():\n",
    "    print(\"What would you like to do?\")\n",
    "    print(\"\\t(a) Add new student\")\n",
    "    print(\"\\t(v) View students\")\n",
    "    print(\"\\t(q) Quit\")\n",
    "    choice = input(\"Type one letter (a/v/q):\").strip()\n",
    "    return choice\n",
    "\n",
    "def do_add(students):\n",
    "    current_student = {}\n",
    "    current_student['name'] = input(\"Enter student name:\")\n",
    "    current_student['modules'] = read_modules()\n",
    "    students.append(current_student)\n",
    "    return students\n",
    "\n",
    "def read_modules():\n",
    "    modules = []\n",
    "    input_module = input(\"Enter the first module name (blank to quit)\").strip()\n",
    "    while input_module != \"\":\n",
    "        module = {}\n",
    "        module['name'] = input_module\n",
    "        module['grade'] = input('enter grade:')\n",
    "        modules.append(module)\n",
    "        input_module = input(\"Enter the next module name\").strip()\n",
    "    return modules   \n",
    "\n",
    "def do_view(students):\n",
    "    if len(students) == 0:\n",
    "        print(\"Students are not given\")   \n",
    "    else:    \n",
    "        for current_student in students:\n",
    "            print(f\"Student's name: {current_student[\"name\"]}\")\n",
    "            print(\"*****\")\n",
    "            modules = current_student['modules']\n",
    "            for module in modules:\n",
    "                print(f'module name: {module['name']}, grade:{module[\"grade\"]}')\n",
    "           \n",
    "    return students\n",
    "    \n",
    "    \n",
    "\n",
    "choice = display_menu()\n",
    "while(choice != \"q\"):\n",
    "    if choice == \"a\":\n",
    "        do_add(students)\n",
    "    elif choice == \"v\":\n",
    "        do_view(students)\n",
    "    elif choice != \"q\":\n",
    "        print(\"Please, select either 'a','v' or 'q'\")\n",
    "    choice = display_menu()\n",
    "    \n",
    "\n"
   ]
  },
  {
   "cell_type": "code",
   "execution_count": null,
   "metadata": {},
   "outputs": [],
   "source": []
  }
 ],
 "metadata": {
  "kernelspec": {
   "display_name": "base",
   "language": "python",
   "name": "python3"
  },
  "language_info": {
   "codemirror_mode": {
    "name": "ipython",
    "version": 3
   },
   "file_extension": ".py",
   "mimetype": "text/x-python",
   "name": "python",
   "nbconvert_exporter": "python",
   "pygments_lexer": "ipython3",
   "version": "3.12.2"
  }
 },
 "nbformat": 4,
 "nbformat_minor": 2
}
