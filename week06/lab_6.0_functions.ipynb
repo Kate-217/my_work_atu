{
 "cells": [
  {
   "cell_type": "markdown",
   "metadata": {},
   "source": [
    "# Functions arguments and return"
   ]
  },
  {
   "cell_type": "code",
   "execution_count": null,
   "metadata": {},
   "outputs": [],
   "source": [
    "def fun1(*arg):  # *arg means that you can use any arguments without naming them\n",
    "    print(type(arg))\n",
    "    print(arg)\n",
    "\n",
    "fun1({'house':23,'shed':4}) # it makes tuple\n",
    "a= fun1({'house':23,'shed':4})\n",
    "\n",
    "\n",
    "    \n",
    "    "
   ]
  },
  {
   "cell_type": "code",
   "execution_count": null,
   "metadata": {},
   "outputs": [],
   "source": [
    "fun1(\"hello\")"
   ]
  },
  {
   "cell_type": "code",
   "execution_count": null,
   "metadata": {},
   "outputs": [],
   "source": [
    "def fun2(**kwargs):    # creates dictionary out of all arguments\n",
    "     print(type(kwargs))\n",
    "    print(kwargs)\n",
    "fun2(name=\"cop\",age = '22', gender = \"male\")\n",
    "\n",
    "    "
   ]
  },
  {
   "cell_type": "markdown",
   "metadata": {},
   "source": [
    "# Lab Topic 06. Functions"
   ]
  },
  {
   "cell_type": "markdown",
   "metadata": {},
   "source": [
    "2. Write a function that prints out a menu of commands we can perform, ie add, view and quit. \n",
    " The function should return what the user chose."
   ]
  },
  {
   "cell_type": "code",
   "execution_count": null,
   "metadata": {},
   "outputs": [],
   "source": [
    "def display_menu():\n",
    "    print(\"What would you like to do?\")\n",
    "    print(\"\\t(a) Add new student\")\n",
    "    print(\"\\t(v) View students\")\n",
    "    print(\"\\t(q) Quit\")\n",
    "    choice = input(\"Type one letter (a/v/q):\").strip()\n",
    "    return choice\n",
    "    \n",
    "#reply = display_menu()\n",
    "#print(f'You chose \"{reply}\"')\n",
    "\n"
   ]
  },
  {
   "cell_type": "markdown",
   "metadata": {},
   "source": [
    "3. Create a program that keeps displaying the menu until the user picks q. \n",
    "if the user chooses a then call a function called doAdd() if the user chooses v then call a function called doView()."
   ]
  },
  {
   "cell_type": "markdown",
   "metadata": {},
   "source": [
    "(a) Add new student -  do_add()<br/>  \n",
    "(v) View students -  do_view() <br/>  \n",
    "(q) Quit  "
   ]
  },
  {
   "cell_type": "code",
   "execution_count": 30,
   "metadata": {},
   "outputs": [
    {
     "name": "stdout",
     "output_type": "stream",
     "text": [
      "What would you like to do?\n",
      "\t(a) Add new student\n",
      "\t(v) View students\n",
      "\t(q) Quit\n",
      "in adding\n",
      "What would you like to do?\n",
      "\t(a) Add new student\n",
      "\t(v) View students\n",
      "\t(q) Quit\n",
      "in viewing\n",
      "What would you like to do?\n",
      "\t(a) Add new student\n",
      "\t(v) View students\n",
      "\t(q) Quit\n"
     ]
    }
   ],
   "source": [
    "def display_menu():\n",
    "    print(\"What would you like to do?\")\n",
    "    print(\"\\t(a) Add new student\")\n",
    "    print(\"\\t(v) View students\")\n",
    "    print(\"\\t(q) Quit\")\n",
    "    choice = input(\"Type one letter (a/v/q):\").strip()\n",
    "    return choice\n",
    "\n",
    "def do_add():\n",
    "    print(\"in adding\")\n",
    "\n",
    "def do_view():\n",
    "    print(\"in viewing\")\n",
    "choice = display_menu()\n",
    "while(choice != \"q\"):\n",
    "\n",
    "\n",
    "    if choice == \"a\":\n",
    "        do_add()\n",
    "    elif choice == \"v\":\n",
    "        do_view()\n",
    "    elif choice != \"q\":\n",
    "        print(\"Please, select either 'a','v' or 'q'\")\n",
    "    choice = display_menu()\n",
    "    "
   ]
  },
  {
   "cell_type": "code",
   "execution_count": null,
   "metadata": {},
   "outputs": [],
   "source": []
  }
 ],
 "metadata": {
  "kernelspec": {
   "display_name": "base",
   "language": "python",
   "name": "python3"
  },
  "language_info": {
   "codemirror_mode": {
    "name": "ipython",
    "version": 3
   },
   "file_extension": ".py",
   "mimetype": "text/x-python",
   "name": "python",
   "nbconvert_exporter": "python",
   "pygments_lexer": "ipython3",
   "version": "3.11.5"
  }
 },
 "nbformat": 4,
 "nbformat_minor": 2
}
