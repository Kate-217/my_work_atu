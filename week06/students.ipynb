{
 "cells": [
  {
   "cell_type": "code",
   "execution_count": 12,
   "metadata": {},
   "outputs": [
    {
     "name": "stdout",
     "output_type": "stream",
     "text": [
      "[{'name': 'Kate', 'modules': [{'name': 'Math', 'grade': '55'}, {'name': 'Bio', 'grade': '68'}, {'name': 'Data', 'grade': '88'}]}]\n"
     ]
    }
   ],
   "source": [
    "students = []\n",
    "\n",
    "def read_modules():\n",
    "    modules = []\n",
    "    input_module = input(\"Enter the first module name (blank to quit)\").strip()\n",
    "    while input_module != \"\":\n",
    "\n",
    "        module = {}\n",
    "        module['name'] = input_module\n",
    "        module['grade'] = input('enter grade:')\n",
    "        modules.append(module)\n",
    "        input_module = input(\"Enter the next module name\").strip()\n",
    "    return modules\n",
    "\n",
    "def do_add(students):\n",
    "    current_student = {}\n",
    "    current_student['name'] = input(\"Enter student name:\")\n",
    "    current_student['modules'] = read_modules()\n",
    "    students.append(current_student)\n",
    "\n",
    "do_add(students)\n",
    "\n",
    "print(students)\n"
   ]
  },
  {
   "cell_type": "code",
   "execution_count": null,
   "metadata": {},
   "outputs": [],
   "source": []
  }
 ],
 "metadata": {
  "kernelspec": {
   "display_name": "Python 3",
   "language": "python",
   "name": "python3"
  },
  "language_info": {
   "codemirror_mode": {
    "name": "ipython",
    "version": 3
   },
   "file_extension": ".py",
   "mimetype": "text/x-python",
   "name": "python",
   "nbconvert_exporter": "python",
   "pygments_lexer": "ipython3",
   "version": "3.9.6"
  }
 },
 "nbformat": 4,
 "nbformat_minor": 2
}
