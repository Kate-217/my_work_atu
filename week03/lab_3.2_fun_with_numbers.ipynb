{
 "cells": [
  {
   "cell_type": "markdown",
   "metadata": {},
   "source": [
    "## Built in functions with numbers\n",
    "1. Write a program called round.py. The program should take in a float and output an int (rounded up or down)"
   ]
  },
  {
   "cell_type": "code",
   "execution_count": null,
   "metadata": {},
   "outputs": [],
   "source": [
    "float_number = float(input((\"Enter a float number\"))) \n",
    "rounded_number = round(float_number)\n",
    "\n",
    "print(\"{} rounded is {}\". format(float_number,rounded_number))"
   ]
  },
  {
   "cell_type": "markdown",
   "metadata": {},
   "source": [
    "2. Write a program (absolute.py) that takes in number and give its absolute value (ie -4 or 4 would both output 4)"
   ]
  },
  {
   "cell_type": "code",
   "execution_count": null,
   "metadata": {},
   "outputs": [],
   "source": [
    "number = float(input(\"Enter a number:\"))\n",
    "absolute_value = abs(number)\n",
    "\n",
    "print(\"The absolute value of {} is {}\".format(number,absolute_value))\n",
    "#print(absolute_value)\n",
    "\n",
    "#print('The absolute value of {} is {}'.format(number, absolute_value))"
   ]
  },
  {
   "cell_type": "markdown",
   "metadata": {},
   "source": [
    "3. Write a program (floor.py), that takes in a float and outputs an int rounded down, you will need the math module math.floor()"
   ]
  },
  {
   "cell_type": "code",
   "execution_count": null,
   "metadata": {},
   "outputs": [],
   "source": [
    "import math"
   ]
  },
  {
   "cell_type": "code",
   "execution_count": null,
   "metadata": {},
   "outputs": [],
   "source": [
    "# fl_number is a variable to round\n",
    "\n",
    "fl_number = float(input(\"enter a number:\"))\n",
    "floored_number = math.floor(fl_number)  # method rounds a number down to the nearest integer\n",
    " \n",
    "print(\"{} floored is {}\".format(fl_number,floored_number))"
   ]
  },
  {
   "cell_type": "markdown",
   "metadata": {},
   "source": [
    "## Extra \n",
    "4. I am writing an application, at the moment, in it I take an input of an amount in the form -9.44 (9 dollars and 44 cent), the issue there may or may not be a minus sign, and the bank takes in the amount in cent, (944). Write a program called convert.py that takes in a float amount of dollars and returns that absolute amount in cent."
   ]
  },
  {
   "cell_type": "code",
   "execution_count": 51,
   "metadata": {},
   "outputs": [
    {
     "name": "stdout",
     "output_type": "stream",
     "text": [
      "Entered amount is -34.6. The amount in cents is 3460.0\n"
     ]
    }
   ],
   "source": [
    "# There is a line wich allows to enter the ammount in float numbers:\n",
    "\n",
    "amount = float(input(\"Enter an amount:\"))\n",
    "\n",
    "abs_amount_in_cents = abs(amount / 0.01) # abs returns an absolute number\n",
    "\n",
    "print(\"Entered amount is {1}. The amount in cents is {0}\".format(abs_amount_in_cents, amount))"
   ]
  },
  {
   "cell_type": "code",
   "execution_count": null,
   "metadata": {},
   "outputs": [],
   "source": []
  }
 ],
 "metadata": {
  "kernelspec": {
   "display_name": "Python 3",
   "language": "python",
   "name": "python3"
  },
  "language_info": {
   "codemirror_mode": {
    "name": "ipython",
    "version": 3
   },
   "file_extension": ".py",
   "mimetype": "text/x-python",
   "name": "python",
   "nbconvert_exporter": "python",
   "pygments_lexer": "ipython3",
   "version": "3.9.6"
  }
 },
 "nbformat": 4,
 "nbformat_minor": 2
}
