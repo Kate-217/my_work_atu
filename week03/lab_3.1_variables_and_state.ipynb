{
 "cells": [
  {
   "cell_type": "markdown",
   "metadata": {},
   "source": [
    "# LAB 3.1"
   ]
  },
  {
   "cell_type": "markdown",
   "metadata": {},
   "source": [
    "## 1 Types"
   ]
  },
  {
   "cell_type": "code",
   "execution_count": 32,
   "metadata": {},
   "outputs": [
    {
     "name": "stdout",
     "output_type": "stream",
     "text": [
      "<class 'int'>\n"
     ]
    }
   ],
   "source": [
    "x = 1\n",
    "y = 0.5\n",
    "z = True\n",
    "a = \"Summer is the best season.\"\n",
    "b = [8,11,39,40]\n",
    "\n",
    "print(type(x))"
   ]
  },
  {
   "cell_type": "code",
   "execution_count": 33,
   "metadata": {},
   "outputs": [
    {
     "name": "stdout",
     "output_type": "stream",
     "text": [
      "[8, 11, 39, 40]\n"
     ]
    }
   ],
   "source": [
    "print(b)"
   ]
  },
  {
   "cell_type": "code",
   "execution_count": 34,
   "metadata": {},
   "outputs": [
    {
     "name": "stdout",
     "output_type": "stream",
     "text": [
      "variable x is of type:<class 'int'> and value:1\n"
     ]
    }
   ],
   "source": [
    "print('variable {} is of type:{} and value:{}'.format('x', type(x), x))"
   ]
  },
  {
   "cell_type": "code",
   "execution_count": 35,
   "metadata": {},
   "outputs": [
    {
     "name": "stdout",
     "output_type": "stream",
     "text": [
      "variable y is of type:<class 'float'> and value:0.5\n"
     ]
    }
   ],
   "source": [
    "print('variable {} is of type:{} and value:{}'.format('y', type(y), y))"
   ]
  },
  {
   "cell_type": "code",
   "execution_count": 36,
   "metadata": {},
   "outputs": [
    {
     "name": "stdout",
     "output_type": "stream",
     "text": [
      "variable z is of type:<class 'bool'> and value:True\n"
     ]
    }
   ],
   "source": [
    "print('variable {} is of type:{} and value:{}'.format('z', type(z), z))"
   ]
  },
  {
   "cell_type": "code",
   "execution_count": 37,
   "metadata": {},
   "outputs": [
    {
     "name": "stdout",
     "output_type": "stream",
     "text": [
      "variable a is of type:<class 'str'> and value:Summer is the best season.\n"
     ]
    }
   ],
   "source": [
    "print('variable {} is of type:{} and value:{}'.format('a', type(a), a))"
   ]
  },
  {
   "cell_type": "code",
   "execution_count": 38,
   "metadata": {},
   "outputs": [
    {
     "name": "stdout",
     "output_type": "stream",
     "text": [
      "variable b is of type:<class 'list'> and value:[8, 11, 39, 40]\n"
     ]
    }
   ],
   "source": [
    "print('variable {} is of type:{} and value:{}'.format('b', type(b), b))"
   ]
  },
  {
   "cell_type": "markdown",
   "metadata": {},
   "source": [
    "## 2  sub.py\n",
    "Program sub.py subtracts one number from another. "
   ]
  },
  {
   "cell_type": "code",
   "execution_count": 39,
   "metadata": {},
   "outputs": [
    {
     "name": "stdout",
     "output_type": "stream",
     "text": [
      "3 minus 5 is -2\n"
     ]
    }
   ],
   "source": [
    "x  = int(input(\"Enter first number\"))\n",
    "y  = int(input(\"Enter second number\"))\n",
    "answer = x - y\n",
    "\n",
    "print(\"{} minus {} is {}\".format(x, y, answer))"
   ]
  },
  {
   "cell_type": "markdown",
   "metadata": {},
   "source": [
    "## 3 div.py\n",
    "\n",
    "Program div.py divides one number by anohter"
   ]
  },
  {
   "cell_type": "code",
   "execution_count": 40,
   "metadata": {},
   "outputs": [
    {
     "name": "stdout",
     "output_type": "stream",
     "text": [
      "2 divided by 7 is 0 with reminder 2\n"
     ]
    }
   ],
   "source": [
    "x  = int(input(\"Enter first number\"))\n",
    "y  = int(input(\"Enter second number\"))\n",
    "answer = x//y\n",
    "remainder = x%y\n",
    "\n",
    "print(\"{} divided by {} is {} with reminder {}\".format (x, y, answer, remainder))"
   ]
  },
  {
   "cell_type": "markdown",
   "metadata": {},
   "source": [
    "## 4 random_generator.py\n",
    "\n",
    "The program prints out a random number betwen 1 and 10"
   ]
  },
  {
   "cell_type": "code",
   "execution_count": 41,
   "metadata": {},
   "outputs": [],
   "source": [
    "import random\n"
   ]
  },
  {
   "cell_type": "code",
   "execution_count": 42,
   "metadata": {},
   "outputs": [
    {
     "name": "stdout",
     "output_type": "stream",
     "text": [
      "Here is a random number 1\n"
     ]
    }
   ],
   "source": [
    "number = random.randint(1,10)\n",
    "\n",
    "print(\"Here is a random number {}\".format (number))"
   ]
  },
  {
   "cell_type": "markdown",
   "metadata": {},
   "source": [
    "## Extra \n",
    "User can input the range x- y"
   ]
  },
  {
   "cell_type": "code",
   "execution_count": 43,
   "metadata": {},
   "outputs": [
    {
     "name": "stdout",
     "output_type": "stream",
     "text": [
      "21 is a random number from your range 3 - 88\n"
     ]
    }
   ],
   "source": [
    "x = int(input(\"Enter the starting number\"))\n",
    "y= int(input(\"Enter the finishing number\"))\n",
    "z = random.randint(x,y)\n",
    "\n",
    "print(\"{} is a random number from your range {} - {}\".format(z,x,y))"
   ]
  },
  {
   "cell_type": "markdown",
   "metadata": {},
   "source": [
    "## Extra questions:"
   ]
  },
  {
   "cell_type": "markdown",
   "metadata": {},
   "source": [
    "6. Why does this expression cause an error? How can you fix it?\n",
    "\n",
    "message = 'I have eaten ' + 99 + ' burritos.'\n",
    "print (message)\n",
    "\n",
    "It is impossible to print this because 99 is <int> and other elements are <str> type."
   ]
  },
  {
   "cell_type": "code",
   "execution_count": 44,
   "metadata": {},
   "outputs": [
    {
     "name": "stdout",
     "output_type": "stream",
     "text": [
      "I have eaten 100 burritos.\n"
     ]
    }
   ],
   "source": [
    "message = 'I have eaten ' + str (100) + ' burritos.'\n",
    "print (message)"
   ]
  },
  {
   "cell_type": "markdown",
   "metadata": {},
   "source": [
    "7. Why is eggs a valid variable name while 100 is invalid?\n",
    "    \n",
    "- numbers must not be used as variables names\n",
    "\n",
    "\n",
    "8. What three functions can be used to get the integer, floating-point number, or\n",
    "string version of a value?\n",
    "\n",
    "- int(), float(), string()"
   ]
  },
  {
   "cell_type": "markdown",
   "metadata": {},
   "source": [
    "\n",
    "\n",
    "8. What three functions can be used to get the integer, floating-point number, or\n",
    "string version of a value?\n",
    "\n",
    "- int(), float(), str()"
   ]
  },
  {
   "cell_type": "code",
   "execution_count": null,
   "metadata": {},
   "outputs": [],
   "source": []
  },
  {
   "cell_type": "code",
   "execution_count": null,
   "metadata": {},
   "outputs": [],
   "source": []
  }
 ],
 "metadata": {
  "kernelspec": {
   "display_name": "Python 3",
   "language": "python",
   "name": "python3"
  },
  "language_info": {
   "codemirror_mode": {
    "name": "ipython",
    "version": 3
   },
   "file_extension": ".py",
   "mimetype": "text/x-python",
   "name": "python",
   "nbconvert_exporter": "python",
   "pygments_lexer": "ipython3",
   "version": "3.9.6"
  }
 },
 "nbformat": 4,
 "nbformat_minor": 2
}
