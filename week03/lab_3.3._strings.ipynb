{
 "cells": [
  {
   "cell_type": "markdown",
   "metadata": {},
   "source": [
    "## Strings\n",
    "1. The program length.py reads in a string and outputs how long it is.\n"
   ]
  },
  {
   "cell_type": "code",
   "execution_count": 5,
   "metadata": {},
   "outputs": [
    {
     "name": "stdout",
     "output_type": "stream",
     "text": [
      "The lenght of string 'Hi' is 2 characters.\n"
     ]
    }
   ],
   "source": [
    "string = input (\"Enter a string:\")\n",
    "len_string = len(string)\n",
    "print(f\"The lenght of string '{string}' is {len_string} characters.\")"
   ]
  },
  {
   "cell_type": "markdown",
   "metadata": {},
   "source": [
    "2. The program outputting a string on multiple lines:\n"
   ]
  },
  {
   "cell_type": "code",
   "execution_count": 13,
   "metadata": {},
   "outputs": [
    {
     "name": "stdout",
     "output_type": "stream",
     "text": [
      "John said  'Hi'\n",
      "I said  'bye'\n"
     ]
    }
   ],
   "source": [
    "message = \"John said  'Hi'\\nI said  'bye'\"\n",
    "print(message)\n"
   ]
  },
  {
   "cell_type": "markdown",
   "metadata": {},
   "source": [
    "3. Write a program (normalise.py) that reads in a string and strips any leading or trailing spaces, the program should also convert the string to lower case. The program should also output the length of the input and output strings. See Python - String Methods (w3schools.com) for more information of string methods."
   ]
  },
  {
   "cell_type": "code",
   "execution_count": 41,
   "metadata": {},
   "outputs": [
    {
     "name": "stdout",
     "output_type": "stream",
     "text": [
      "The normalised srting is: tttnnn,uu.\n",
      "We reduced the input string from 15 to 10 characters\n"
     ]
    }
   ],
   "source": [
    "raw_string = input(\"Enter a string:\")\n",
    "normalised_string = raw_string.rstrip().lstrip().lower()  \n",
    "\n",
    "# rstrip() returns a trimmed version of the string. I also use lstrip() to clean the string from the left.\n",
    "# lower() converts a string into lower case.\n",
    "# to avoid unnececary varialbles I use the len() method in ptint() \n",
    "\n",
    "print(\"The normalised srting is: {}\".format(normalised_string)+\"\\nWe reduced the input string from \"+ str(len(raw_string))+ \" to \" + str(len(normalised_string))+ \" characters\")\n"
   ]
  },
  {
   "cell_type": "code",
   "execution_count": null,
   "metadata": {},
   "outputs": [],
   "source": []
  },
  {
   "cell_type": "code",
   "execution_count": null,
   "metadata": {},
   "outputs": [],
   "source": []
  }
 ],
 "metadata": {
  "kernelspec": {
   "display_name": "Python 3",
   "language": "python",
   "name": "python3"
  },
  "language_info": {
   "codemirror_mode": {
    "name": "ipython",
    "version": 3
   },
   "file_extension": ".py",
   "mimetype": "text/x-python",
   "name": "python",
   "nbconvert_exporter": "python",
   "pygments_lexer": "ipython3",
   "version": "3.9.6"
  }
 },
 "nbformat": 4,
 "nbformat_minor": 2
}
