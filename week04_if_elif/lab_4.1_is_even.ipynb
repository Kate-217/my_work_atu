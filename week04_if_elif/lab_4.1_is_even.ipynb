{
 "cells": [
  {
   "cell_type": "code",
   "execution_count": null,
   "metadata": {},
   "outputs": [],
   "source": [
    "# program that that asks the user to enter in a number, and the\n",
    "# program will tell the user if the number is even or odd.\n",
    "\n",
    "number = int(input(\"enter an integer:\"))\n",
    "if (number % 2) == 0:\n",
    "    print(f' {number} is an even number')\n",
    "else:\n",
    "    print(f\"{number} is an odd number\")\n",
    "    print((number % 2))          "
   ]
  },
  {
   "cell_type": "code",
   "execution_count": null,
   "metadata": {},
   "outputs": [],
   "source": [
    "# This program reads in a student’s percentage mark and \n",
    "# prints out the corresponding grade (the program should check that the percentage is valid):\n",
    "\n",
    "# to round percentage I used round() method\n",
    "percentage = round(float(input(\"Enter the percentage:\")))\n",
    "\n",
    "                         \n",
    "if percentage < 0 or percentage > 100:\n",
    "    print(\"Please enter a number between 0 and 100\")\n",
    "elif percentage < 40:\n",
    "    print(\"Fail\")\n",
    "elif percentage < 50:\n",
    "    print(\"Pass\")\n",
    "elif percentage < 60:\n",
    "    print(\"Merit1\")\n",
    "elif percentage < 70:\n",
    "    print(\"Merit2\")\n",
    "\n",
    "else: \n",
    "    print(\"Distinction\")\n",
    "print(percentage)"
   ]
  },
  {
   "cell_type": "code",
   "execution_count": 25,
   "metadata": {},
   "outputs": [
    {
     "name": "stdout",
     "output_type": "stream",
     "text": [
      "67 is an odd number\n",
      "1\n",
      " 88 is an even number\n",
      " 90 is an even number\n",
      " 7878778 is an even number\n",
      " 876876 is an even number\n",
      "You entered -1\n"
     ]
    }
   ],
   "source": [
    "# program that that asks the user to enter in a number, and the\n",
    "# program will tell the user if the number is even or odd.\n",
    "\n",
    "# EXTRA How would you use a while loop to modify 1 so that it keeps prompting the\n",
    "# user for a number until the user enters -1\n",
    "\n",
    "number = int(input(\"enter an integer:\"))\n",
    "while number != -1:                       # that is the condition. If it is false loope is finished by print()\n",
    "    if (number % 2) == 0:\n",
    "        print(f' {number} is an even number')\n",
    "        number = int(input(\"enter an integer:\"))   # Here we are checking out the condition agine\n",
    "    else:\n",
    "        print(f\"{number} is an odd number\")\n",
    "        print((number % 2)) \n",
    "        number = int(input(\"enter an integer:\"))  #Here we are checking out the condition agine\n",
    "print(\"You entered -1\")        "
   ]
  }
 ],
 "metadata": {
  "kernelspec": {
   "display_name": "base",
   "language": "python",
   "name": "python3"
  },
  "language_info": {
   "codemirror_mode": {
    "name": "ipython",
    "version": 3
   },
   "file_extension": ".py",
   "mimetype": "text/x-python",
   "name": "python",
   "nbconvert_exporter": "python",
   "pygments_lexer": "ipython3",
   "version": "3.11.5"
  }
 },
 "nbformat": 4,
 "nbformat_minor": 2
}
