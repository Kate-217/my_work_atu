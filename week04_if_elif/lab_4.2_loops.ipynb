{
 "cells": [
  {
   "cell_type": "code",
   "execution_count": null,
   "metadata": {},
   "outputs": [],
   "source": [
    "# The program (evens.py) that uses a while loop to print all the even numbers from 2 to 100.\n",
    "\n",
    "number_to = 100\n",
    "even_num = 2\n",
    "\n",
    "while even_num <= number_to:\n",
    "    print(even_num)\n",
    "    even_num += 2"
   ]
  },
  {
   "cell_type": "code",
   "execution_count": null,
   "metadata": {},
   "outputs": [],
   "source": [
    "# Write a program (guess1.py) that prompts the user to guess a number, the program should \n",
    "# keep prompting the user to guess the number until the user gets the right on\n",
    "# guess1.py\n",
    "\n",
    "\n",
    "\n",
    "number_to_guess = 23\n",
    "\n",
    "guess = int(input(\"Please, guess the number:\")) \n",
    "while guess != number_to_guess:\n",
    "    print(\"Wrong\")\n",
    "    guess = int(input(\"Please, guess the number again:\"))\n",
    "print(\"Well done! The number was\", number_to_guess) "
   ]
  },
  {
   "cell_type": "code",
   "execution_count": 6,
   "metadata": {},
   "outputs": [
    {
     "name": "stdout",
     "output_type": "stream",
     "text": [
      "too low\n",
      "too low\n",
      "too low\n",
      "too low\n",
      "Well done! The number was 9\n"
     ]
    }
   ],
   "source": [
    "#EXTRA: modify the program in 3 (guess2.py) above, so that the program tells the user if there guess is too high or too low, \n",
    "# each time they guess. HINT: put an if statement inside the while loop\n",
    "# guess2.py\n",
    "\n",
    "\n",
    "import random\n",
    "# to get a random number I use random.randint()\n",
    "\n",
    "\n",
    "number_to_guess = random.randint(1,100)\n",
    "\n",
    "guess = int(input(\"Please, guess the number:\")) \n",
    "while guess != number_to_guess:\n",
    "    if guess < number_to_guess:\n",
    "        print(\"too low\")\n",
    "        guess = int(input(\"Please, guess the number again:\"))\n",
    "    else:\n",
    "        print(\"too high\")\n",
    "        guess = int(input(\"Please, guess the number again:\"))    \n",
    "print(\"Well done! The number was\", number_to_guess) "
   ]
  },
  {
   "cell_type": "code",
   "execution_count": null,
   "metadata": {},
   "outputs": [],
   "source": []
  }
 ],
 "metadata": {
  "kernelspec": {
   "display_name": "Python 3",
   "language": "python",
   "name": "python3"
  },
  "language_info": {
   "codemirror_mode": {
    "name": "ipython",
    "version": 3
   },
   "file_extension": ".py",
   "mimetype": "text/x-python",
   "name": "python",
   "nbconvert_exporter": "python",
   "pygments_lexer": "ipython3",
   "version": "3.9.6"
  }
 },
 "nbformat": 4,
 "nbformat_minor": 2
}
