{
 "cells": [
  {
   "cell_type": "code",
   "execution_count": null,
   "metadata": {},
   "outputs": [],
   "source": [
    "# 1 The program (evens.py) that uses a while loop to print all the even numbers from 2 to 100.\n",
    "\n",
    "number_to = 100\n",
    "even_num = 2\n",
    "\n",
    "while even_num <= number_to:\n",
    "    print(even_num)\n",
    "    even_num += 2"
   ]
  },
  {
   "cell_type": "code",
   "execution_count": null,
   "metadata": {},
   "outputs": [],
   "source": [
    "# 2. Write a program (guess1.py) that prompts the user to guess a number, the program should \n",
    "# keep prompting the user to guess the number until the user gets the right on\n",
    "# guess1.py\n",
    "\n",
    "\n",
    "\n",
    "number_to_guess = 23\n",
    "\n",
    "guess = int(input(\"Please, guess the number:\")) \n",
    "while guess != number_to_guess:\n",
    "    print(\"Wrong\")\n",
    "    guess = int(input(\"Please, guess the number again:\"))\n",
    "print(\"Well done! The number was\", number_to_guess) "
   ]
  },
  {
   "cell_type": "code",
   "execution_count": null,
   "metadata": {},
   "outputs": [],
   "source": [
    "# 3 and 4 EXTRA: modify the program in 3 (guess2.py) above, so that the program tells the user if there guess is too high or too low, \n",
    "# each time they guess. HINT: put an if statement inside the while loop\n",
    "# guess2.py\n",
    "\n",
    "\n",
    "import random\n",
    "# to get a random number I use random.randint()\n",
    "\n",
    "\n",
    "number_to_guess = random.randint(1,100)\n",
    "\n",
    "guess = int(input(\"Please, guess the number:\")) \n",
    "while guess != number_to_guess:\n",
    "    if guess < number_to_guess:\n",
    "        print(\"too low\")\n",
    "        guess = int(input(\"Please, guess the number again:\"))\n",
    "    else:\n",
    "        print(\"too high\")\n",
    "        guess = int(input(\"Please, guess the number again:\"))    \n",
    "print(\"Well done! The number was\", number_to_guess) "
   ]
  },
  {
   "cell_type": "code",
   "execution_count": null,
   "metadata": {},
   "outputs": [],
   "source": [
    "# 5. Write a program (average.py) that keeps reading numbers until the user enters a 0. \n",
    "# (the program should append each of them into a list)\n",
    "# The program should then print out each of the numbers entered and the average of them. (Use a list)"
   ]
  },
  {
   "cell_type": "code",
   "execution_count": null,
   "metadata": {},
   "outputs": [],
   "source": [
    "\n",
    "numbers = []\n",
    "number = int(input(\"Enter the number. 0 is exit\"))\n",
    "\n",
    "while number != 0:\n",
    "    numbers.append(number)\n",
    "    number = int(input(\"Enter the number. 0 is exit\"))\n",
    "#print(numbers)\n",
    "\n",
    "for val in numbers:\n",
    "    print(val)\n",
    "\n",
    "average = round(sum(numbers)/ len(numbers),2)\n",
    "print(f'averege of the numbers is {average}')"
   ]
  },
  {
   "cell_type": "code",
   "execution_count": 88,
   "metadata": {},
   "outputs": [
    {
     "name": "stdout",
     "output_type": "stream",
     "text": [
      "10 randome numbers are:  [46, 0, 85, 15, 81, 27, 97, 38, 43, 58]\n",
      "The three top numbers are [97, 85, 81]\n"
     ]
    }
   ],
   "source": [
    "# Write a program (topthree.py) generates 10 random numbers (0-100) , prints them out then prints out the top three.\n",
    "# (there are concepts I have not covered yet in this question)\n",
    "\n",
    "import random\n",
    "# creating an empty list\n",
    "random_list = []\n",
    "\n",
    "# adding 10 random numbers in range 0-100\n",
    "for n in range(10):\n",
    "    random_list.append(random.randint(0,100))\n",
    "print('10 randome numbers are: ',random_list)\n",
    "\n",
    "# sorting the list of numbers so the first 3 would be the largest ones\n",
    "random_list.sort(reverse = True)\n",
    "# print out the first 3 numbers \n",
    "\n",
    "print(f'The three top numbers are {random_list[0:3]}')\n"
   ]
  }
 ],
 "metadata": {
  "kernelspec": {
   "display_name": "Python 3",
   "language": "python",
   "name": "python3"
  },
  "language_info": {
   "codemirror_mode": {
    "name": "ipython",
    "version": 3
   },
   "file_extension": ".py",
   "mimetype": "text/x-python",
   "name": "python",
   "nbconvert_exporter": "python",
   "pygments_lexer": "ipython3",
   "version": "3.9.6"
  }
 },
 "nbformat": 4,
 "nbformat_minor": 2
}
